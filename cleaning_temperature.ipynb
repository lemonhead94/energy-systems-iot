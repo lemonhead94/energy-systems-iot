{
 "cells": [
  {
   "cell_type": "markdown",
   "metadata": {},
   "source": [
    "## Cleaning the Obfelden Temperature Data"
   ]
  },
  {
   "cell_type": "code",
   "execution_count": null,
   "metadata": {},
   "outputs": [],
   "source": [
    "temperature = pd.read_csv('temperature.csv', sep=';')\n",
    "\n",
    "# check if there are NaN values\n",
    "temperature.isnull().values.any()\n",
    "temperature = temperature.dropna()\n",
    "\n",
    "# Find duplicated rows\n",
    "ids = temperature[\"Datum\"]\n",
    "temperature[ids.isin(ids[ids.duplicated()])]\n",
    "\n",
    "# make Datum a datetime object in temperature dataframe\n",
    "temperature['Datum'] = pd.to_datetime(temperature['Datum'])"
   ]
  },
  {
   "cell_type": "code",
   "execution_count": null,
   "metadata": {},
   "outputs": [],
   "source": [
    "# wrong datetime fixes, where the readings are twice 03:00:00 instead of 02:00:00\n",
    "temperature.at[1994,'Datum']='2018-03-25 02:00:00'\n",
    "temperature.at[10753,'Datum']='2019-03-31 02:00:00'\n",
    "temperature.at[19489,'Datum']='2020-03-29 02:00:00'\n",
    "temperature.at[28224,'Datum']='2021-03-28 02:00:00'"
   ]
  },
  {
   "cell_type": "code",
   "execution_count": null,
   "metadata": {},
   "outputs": [],
   "source": [
    "mask = (temperature['Datum'] > '27-03-2021 23:00:00') & (temperature['Datum'] <= '28-03-2021 23:00:00')\n",
    "heyo = temperature.loc[mask]\n",
    "\n",
    "# Find duplicated rows\n",
    "ids = temperature[\"Datum\"]\n",
    "temperature[ids.isin(ids[ids.duplicated()])] # no more duplicates"
   ]
  },
  {
   "cell_type": "code",
   "execution_count": null,
   "metadata": {},
   "outputs": [],
   "source": [
    "temperature.to_csv('temperature_cleaned.csv', sep=';')"
   ]
  }
 ],
 "metadata": {
  "interpreter": {
   "hash": "a930f8eec77991a74489a10b1bd888107863bc192155640ee7d080bc4874a2ef"
  },
  "kernelspec": {
   "display_name": "Python 3.9.7 64-bit (conda)",
   "language": "python",
   "name": "python3"
  },
  "language_info": {
   "name": "python",
   "version": "3.9.7"
  },
  "orig_nbformat": 4
 },
 "nbformat": 4,
 "nbformat_minor": 2
}
