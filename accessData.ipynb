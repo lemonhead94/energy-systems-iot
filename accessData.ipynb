{
 "cells": [
  {
   "cell_type": "code",
   "execution_count": 5,
   "metadata": {
    "collapsed": true
   },
   "outputs": [],
   "source": [
    "import os\n",
    "from entsoe import EntsoePandasClient\n",
    "import pandas as pd\n",
    "from dotenv import load_dotenv\n",
    "\n",
    "# Save your API KEY in .env file on same directory\n",
    "# .env\n",
    "# API_KEY=abcdfasdfasdf12341234\n",
    "load_dotenv()\n",
    "API_KEY = os.environ.get('API_KEY')"
   ]
  },
  {
   "cell_type": "code",
   "execution_count": 6,
   "outputs": [
    {
     "data": {
      "text/plain": "                           Actual Load\n2021-11-26 00:00:00+01:00       7389.0\n2021-11-26 01:00:00+01:00       7551.0\n2021-11-26 02:00:00+01:00       7591.0\n2021-11-26 03:00:00+01:00       7529.0\n2021-11-26 04:00:00+01:00       7609.0\n2021-11-26 05:00:00+01:00       7541.0\n2021-11-26 06:00:00+01:00       7632.0\n2021-11-26 07:00:00+01:00       9007.0\n2021-11-26 08:00:00+01:00       9376.0\n2021-11-26 09:00:00+01:00       9380.0\n2021-11-26 10:00:00+01:00       9381.0\n2021-11-26 11:00:00+01:00       9382.0\n2021-11-26 12:00:00+01:00       9371.0\n2021-11-26 13:00:00+01:00       9380.0\n2021-11-26 14:00:00+01:00       9006.0\n2021-11-26 15:00:00+01:00       9057.0\n2021-11-26 16:00:00+01:00       9029.0\n2021-11-26 17:00:00+01:00       9387.0\n2021-11-26 18:00:00+01:00       9387.0\n2021-11-26 19:00:00+01:00       9051.0\n2021-11-26 20:00:00+01:00       8584.0\n2021-11-26 21:00:00+01:00       7568.0\n2021-11-26 22:00:00+01:00       7914.0\n2021-11-26 23:00:00+01:00       7741.0",
      "text/html": "<div>\n<style scoped>\n    .dataframe tbody tr th:only-of-type {\n        vertical-align: middle;\n    }\n\n    .dataframe tbody tr th {\n        vertical-align: top;\n    }\n\n    .dataframe thead th {\n        text-align: right;\n    }\n</style>\n<table border=\"1\" class=\"dataframe\">\n  <thead>\n    <tr style=\"text-align: right;\">\n      <th></th>\n      <th>Actual Load</th>\n    </tr>\n  </thead>\n  <tbody>\n    <tr>\n      <th>2021-11-26 00:00:00+01:00</th>\n      <td>7389.0</td>\n    </tr>\n    <tr>\n      <th>2021-11-26 01:00:00+01:00</th>\n      <td>7551.0</td>\n    </tr>\n    <tr>\n      <th>2021-11-26 02:00:00+01:00</th>\n      <td>7591.0</td>\n    </tr>\n    <tr>\n      <th>2021-11-26 03:00:00+01:00</th>\n      <td>7529.0</td>\n    </tr>\n    <tr>\n      <th>2021-11-26 04:00:00+01:00</th>\n      <td>7609.0</td>\n    </tr>\n    <tr>\n      <th>2021-11-26 05:00:00+01:00</th>\n      <td>7541.0</td>\n    </tr>\n    <tr>\n      <th>2021-11-26 06:00:00+01:00</th>\n      <td>7632.0</td>\n    </tr>\n    <tr>\n      <th>2021-11-26 07:00:00+01:00</th>\n      <td>9007.0</td>\n    </tr>\n    <tr>\n      <th>2021-11-26 08:00:00+01:00</th>\n      <td>9376.0</td>\n    </tr>\n    <tr>\n      <th>2021-11-26 09:00:00+01:00</th>\n      <td>9380.0</td>\n    </tr>\n    <tr>\n      <th>2021-11-26 10:00:00+01:00</th>\n      <td>9381.0</td>\n    </tr>\n    <tr>\n      <th>2021-11-26 11:00:00+01:00</th>\n      <td>9382.0</td>\n    </tr>\n    <tr>\n      <th>2021-11-26 12:00:00+01:00</th>\n      <td>9371.0</td>\n    </tr>\n    <tr>\n      <th>2021-11-26 13:00:00+01:00</th>\n      <td>9380.0</td>\n    </tr>\n    <tr>\n      <th>2021-11-26 14:00:00+01:00</th>\n      <td>9006.0</td>\n    </tr>\n    <tr>\n      <th>2021-11-26 15:00:00+01:00</th>\n      <td>9057.0</td>\n    </tr>\n    <tr>\n      <th>2021-11-26 16:00:00+01:00</th>\n      <td>9029.0</td>\n    </tr>\n    <tr>\n      <th>2021-11-26 17:00:00+01:00</th>\n      <td>9387.0</td>\n    </tr>\n    <tr>\n      <th>2021-11-26 18:00:00+01:00</th>\n      <td>9387.0</td>\n    </tr>\n    <tr>\n      <th>2021-11-26 19:00:00+01:00</th>\n      <td>9051.0</td>\n    </tr>\n    <tr>\n      <th>2021-11-26 20:00:00+01:00</th>\n      <td>8584.0</td>\n    </tr>\n    <tr>\n      <th>2021-11-26 21:00:00+01:00</th>\n      <td>7568.0</td>\n    </tr>\n    <tr>\n      <th>2021-11-26 22:00:00+01:00</th>\n      <td>7914.0</td>\n    </tr>\n    <tr>\n      <th>2021-11-26 23:00:00+01:00</th>\n      <td>7741.0</td>\n    </tr>\n  </tbody>\n</table>\n</div>"
     },
     "execution_count": 6,
     "metadata": {},
     "output_type": "execute_result"
    }
   ],
   "source": [
    "client = EntsoePandasClient(api_key=API_KEY)\n",
    "\n",
    "start = pd.Timestamp('20211126', tz='Europe/Zurich')\n",
    "end = pd.Timestamp('20211127', tz='Europe/Zurich')\n",
    "country_code = 'CH'\n",
    "\n",
    "client.query_load(country_code, start=start, end=end)"
   ],
   "metadata": {
    "collapsed": false,
    "pycharm": {
     "name": "#%%\n"
    }
   }
  },
  {
   "cell_type": "code",
   "execution_count": 7,
   "outputs": [
    {
     "data": {
      "text/plain": "                           Forecasted Load  Actual Load\n2021-11-26 00:00:00+01:00           7527.0       7389.0\n2021-11-26 01:00:00+01:00           7541.0       7551.0\n2021-11-26 02:00:00+01:00           7580.0       7591.0\n2021-11-26 03:00:00+01:00           7524.0       7529.0\n2021-11-26 04:00:00+01:00           7514.0       7609.0\n2021-11-26 05:00:00+01:00           7676.0       7541.0\n2021-11-26 06:00:00+01:00           7572.0       7632.0\n2021-11-26 07:00:00+01:00           8993.0       9007.0\n2021-11-26 08:00:00+01:00           9375.0       9376.0\n2021-11-26 09:00:00+01:00           9379.0       9380.0\n2021-11-26 10:00:00+01:00           9381.0       9381.0\n2021-11-26 11:00:00+01:00           9383.0       9382.0\n2021-11-26 12:00:00+01:00           9179.0       9371.0\n2021-11-26 13:00:00+01:00           9383.0       9380.0\n2021-11-26 14:00:00+01:00           9007.0       9006.0\n2021-11-26 15:00:00+01:00           9065.0       9057.0\n2021-11-26 16:00:00+01:00           9010.0       9029.0\n2021-11-26 17:00:00+01:00           9386.0       9387.0\n2021-11-26 18:00:00+01:00           9385.0       9387.0\n2021-11-26 19:00:00+01:00           9047.0       9051.0\n2021-11-26 20:00:00+01:00           8601.0       8584.0\n2021-11-26 21:00:00+01:00           7589.0       7568.0\n2021-11-26 22:00:00+01:00           8062.0       7914.0\n2021-11-26 23:00:00+01:00           7859.0       7741.0",
      "text/html": "<div>\n<style scoped>\n    .dataframe tbody tr th:only-of-type {\n        vertical-align: middle;\n    }\n\n    .dataframe tbody tr th {\n        vertical-align: top;\n    }\n\n    .dataframe thead th {\n        text-align: right;\n    }\n</style>\n<table border=\"1\" class=\"dataframe\">\n  <thead>\n    <tr style=\"text-align: right;\">\n      <th></th>\n      <th>Forecasted Load</th>\n      <th>Actual Load</th>\n    </tr>\n  </thead>\n  <tbody>\n    <tr>\n      <th>2021-11-26 00:00:00+01:00</th>\n      <td>7527.0</td>\n      <td>7389.0</td>\n    </tr>\n    <tr>\n      <th>2021-11-26 01:00:00+01:00</th>\n      <td>7541.0</td>\n      <td>7551.0</td>\n    </tr>\n    <tr>\n      <th>2021-11-26 02:00:00+01:00</th>\n      <td>7580.0</td>\n      <td>7591.0</td>\n    </tr>\n    <tr>\n      <th>2021-11-26 03:00:00+01:00</th>\n      <td>7524.0</td>\n      <td>7529.0</td>\n    </tr>\n    <tr>\n      <th>2021-11-26 04:00:00+01:00</th>\n      <td>7514.0</td>\n      <td>7609.0</td>\n    </tr>\n    <tr>\n      <th>2021-11-26 05:00:00+01:00</th>\n      <td>7676.0</td>\n      <td>7541.0</td>\n    </tr>\n    <tr>\n      <th>2021-11-26 06:00:00+01:00</th>\n      <td>7572.0</td>\n      <td>7632.0</td>\n    </tr>\n    <tr>\n      <th>2021-11-26 07:00:00+01:00</th>\n      <td>8993.0</td>\n      <td>9007.0</td>\n    </tr>\n    <tr>\n      <th>2021-11-26 08:00:00+01:00</th>\n      <td>9375.0</td>\n      <td>9376.0</td>\n    </tr>\n    <tr>\n      <th>2021-11-26 09:00:00+01:00</th>\n      <td>9379.0</td>\n      <td>9380.0</td>\n    </tr>\n    <tr>\n      <th>2021-11-26 10:00:00+01:00</th>\n      <td>9381.0</td>\n      <td>9381.0</td>\n    </tr>\n    <tr>\n      <th>2021-11-26 11:00:00+01:00</th>\n      <td>9383.0</td>\n      <td>9382.0</td>\n    </tr>\n    <tr>\n      <th>2021-11-26 12:00:00+01:00</th>\n      <td>9179.0</td>\n      <td>9371.0</td>\n    </tr>\n    <tr>\n      <th>2021-11-26 13:00:00+01:00</th>\n      <td>9383.0</td>\n      <td>9380.0</td>\n    </tr>\n    <tr>\n      <th>2021-11-26 14:00:00+01:00</th>\n      <td>9007.0</td>\n      <td>9006.0</td>\n    </tr>\n    <tr>\n      <th>2021-11-26 15:00:00+01:00</th>\n      <td>9065.0</td>\n      <td>9057.0</td>\n    </tr>\n    <tr>\n      <th>2021-11-26 16:00:00+01:00</th>\n      <td>9010.0</td>\n      <td>9029.0</td>\n    </tr>\n    <tr>\n      <th>2021-11-26 17:00:00+01:00</th>\n      <td>9386.0</td>\n      <td>9387.0</td>\n    </tr>\n    <tr>\n      <th>2021-11-26 18:00:00+01:00</th>\n      <td>9385.0</td>\n      <td>9387.0</td>\n    </tr>\n    <tr>\n      <th>2021-11-26 19:00:00+01:00</th>\n      <td>9047.0</td>\n      <td>9051.0</td>\n    </tr>\n    <tr>\n      <th>2021-11-26 20:00:00+01:00</th>\n      <td>8601.0</td>\n      <td>8584.0</td>\n    </tr>\n    <tr>\n      <th>2021-11-26 21:00:00+01:00</th>\n      <td>7589.0</td>\n      <td>7568.0</td>\n    </tr>\n    <tr>\n      <th>2021-11-26 22:00:00+01:00</th>\n      <td>8062.0</td>\n      <td>7914.0</td>\n    </tr>\n    <tr>\n      <th>2021-11-26 23:00:00+01:00</th>\n      <td>7859.0</td>\n      <td>7741.0</td>\n    </tr>\n  </tbody>\n</table>\n</div>"
     },
     "execution_count": 7,
     "metadata": {},
     "output_type": "execute_result"
    }
   ],
   "source": [
    "client.query_load_and_forecast(country_code, start=start, end=end)"
   ],
   "metadata": {
    "collapsed": false,
    "pycharm": {
     "name": "#%%\n"
    }
   }
  }
 ],
 "metadata": {
  "kernelspec": {
   "display_name": "Python 3",
   "language": "python",
   "name": "python3"
  },
  "language_info": {
   "codemirror_mode": {
    "name": "ipython",
    "version": 2
   },
   "file_extension": ".py",
   "mimetype": "text/x-python",
   "name": "python",
   "nbconvert_exporter": "python",
   "pygments_lexer": "ipython2",
   "version": "2.7.6"
  }
 },
 "nbformat": 4,
 "nbformat_minor": 0
}